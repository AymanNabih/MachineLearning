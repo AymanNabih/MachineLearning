{
 "cells": [
  {
   "cell_type": "code",
   "execution_count": 75,
   "metadata": {
    "collapsed": false
   },
   "outputs": [
    {
     "name": "stdout",
     "output_type": "stream",
     "text": [
      "[[ 5.88360656  2.74098361  4.38852459  1.43442623]\n",
      " [ 6.85384615  3.07692308  5.71538462  2.05384615]\n",
      " [ 5.006       3.418       1.464       0.244     ]]\n"
     ]
    }
   ],
   "source": [
    "import matplotlib.pyplot as plt\n",
    "import numpy as np\n",
    "import random\n",
    "from mpl_toolkits.mplot3d import Axes3D\n",
    "from sklearn import datasets\n",
    "from scipy.spatial.distance import euclidean\n",
    "\n",
    "# import some data to play with\n",
    "iris = datasets.load_iris()\n",
    "# print iris\n",
    "X = iris.data[:, :4]  # we only take the first two features.\n",
    "y = iris.target\n",
    "# print X\n",
    "# print y\n",
    "\n",
    "def Kmeans(k=10,centroids=None):\n",
    "    if centroids is None:\n",
    "        sample = random.sample(X,k)\n",
    "    else:\n",
    "        sample = centroids\n",
    "    \n",
    "    classifier = []\n",
    "    for j,observation in enumerate(X):\n",
    "        point_distance = {}\n",
    "        for i,item in enumerate(sample):\n",
    "            point_distance[i] = euclidean(observation, item)\n",
    "        classifier.append(min(point_distance.items(), key=lambda x: x[1])[0])\n",
    "\n",
    "    centroids = np.array(classifier)\n",
    "    Z = np.hstack((X,centroids.reshape(-1,1)))\n",
    "    new_centroids = []\n",
    "    \n",
    "    for l in xrange(k):\n",
    "        new_centroids.append(Z[Z[:,-1] == l][:,0:-1].mean(axis=0))\n",
    "    \n",
    "    if np.allclose(new_centroids, sample):\n",
    "#         print new_centroids\n",
    "        return new_centroids\n",
    "    else:\n",
    "#         print k\n",
    "        return Kmeans(k,new_centroids)\n",
    "        \n",
    "test = Kmeans(3)\n",
    "print np.array(test)"
   ]
  },
  {
   "cell_type": "code",
   "execution_count": null,
   "metadata": {
    "collapsed": true
   },
   "outputs": [],
   "source": []
  }
 ],
 "metadata": {
  "kernelspec": {
   "display_name": "Python 2",
   "language": "python",
   "name": "python2"
  },
  "language_info": {
   "codemirror_mode": {
    "name": "ipython",
    "version": 2
   },
   "file_extension": ".py",
   "mimetype": "text/x-python",
   "name": "python",
   "nbconvert_exporter": "python",
   "pygments_lexer": "ipython2",
   "version": "2.7.9"
  }
 },
 "nbformat": 4,
 "nbformat_minor": 0
}
