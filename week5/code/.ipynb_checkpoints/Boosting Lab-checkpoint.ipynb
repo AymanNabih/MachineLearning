{
 "cells": [
  {
   "cell_type": "code",
   "execution_count": 9,
   "metadata": {
    "collapsed": false
   },
   "outputs": [
    {
     "name": "stdout",
     "output_type": "stream",
     "text": [
      "2 Estimators : 0.77932232841 Accuracy\n",
      "4 Estimators : 0.847958297133 Accuracy\n",
      "6 Estimators : 0.892267593397 Accuracy\n",
      "8 Estimators : 0.904430929626 Accuracy\n",
      "10 Estimators : 0.914856646394 Accuracy\n",
      "12 Estimators : 0.912250217202 Accuracy\n",
      "14 Estimators : 0.918331885317 Accuracy\n",
      "16 Estimators : 0.918331885317 Accuracy\n",
      "18 Estimators : 0.918331885317 Accuracy\n",
      "20 Estimators : 0.918331885317 Accuracy\n",
      "22 Estimators : 0.927888792354 Accuracy\n",
      "24 Estimators : 0.923544743701 Accuracy\n",
      "26 Estimators : 0.920069504778 Accuracy\n",
      "28 Estimators : 0.920069504778 Accuracy\n",
      "30 Estimators : 0.920069504778 Accuracy\n"
     ]
    },
    {
     "data": {
      "image/png": "[encoded data removed]",
      "text/plain": [
       "<matplotlib.figure.Figure at 0x169a9240>"
      ]
     },
     "metadata": {},
     "output_type": "display_data"
    }
   ],
   "source": [
    "from boosting import AdaBoostBinaryClassifier\n",
    "import numpy as np\n",
    "from sklearn.cross_validation import train_test_split\n",
    "import matplotlib.pyplot as plt\n",
    "%matplotlib inline\n",
    "\n",
    "data = np.genfromtxt('data/spam.csv', delimiter=',')\n",
    "\n",
    "y = data[:, -1]\n",
    "x = data[:, 0:-1]\n",
    "\n",
    "train_x, test_x, train_y, test_y = train_test_split(x, y,random_state=42)\n",
    "\n",
    "accuracy = []\n",
    "for i in [2,4,6,8,10,12,14,16,18,20,22,24,26,28,30]:\n",
    "    my_ada = AdaBoostBinaryClassifier(n_estimators=i)\n",
    "    my_ada.fit(train_x, train_y)\n",
    "    accuracy.append(my_ada.score(test_x, test_y))\n",
    "    print \"{} Estimators : {} Accuracy\".format(i,my_ada.score(test_x, test_y))\n",
    "\n",
    "plt.plot([2,4,6,8,10,12,14,16,18,20,22,24,26,28,30], accuracy)\n",
    "plt.show()"
   ]
  },
  {
   "cell_type": "code",
   "execution_count": 7,
   "metadata": {
    "collapsed": false
   },
   "outputs": [
    {
     "name": "stdout",
     "output_type": "stream",
     "text": [
      "2 Estimators : 0.77932232841 Accuracy\n",
      "4 Estimators : 0.873153779322 Accuracy\n",
      "6 Estimators : 0.892267593397 Accuracy\n",
      "8 Estimators : 0.911381407472 Accuracy\n",
      "10 Estimators : 0.92267593397 Accuracy\n",
      "12 Estimators : 0.929626411816 Accuracy\n",
      "14 Estimators : 0.926151172893 Accuracy\n",
      "16 Estimators : 0.929626411816 Accuracy\n",
      "18 Estimators : 0.930495221546 Accuracy\n",
      "20 Estimators : 0.93570807993 Accuracy\n",
      "22 Estimators : 0.940920938315 Accuracy\n",
      "24 Estimators : 0.940920938315 Accuracy\n",
      "26 Estimators : 0.9348392702 Accuracy\n",
      "28 Estimators : 0.936576889661 Accuracy\n",
      "30 Estimators : 0.93570807993 Accuracy\n"
     ]
    },
    {
     "data": {
      "image/png": "[encoded data removed]",
      "text/plain": [
       "<matplotlib.figure.Figure at 0x16fdc4e0>"
      ]
     },
     "metadata": {},
     "output_type": "display_data"
    }
   ],
   "source": [
    "from sklearn.ensemble import AdaBoostClassifier\n",
    "import numpy as np\n",
    "from sklearn.cross_validation import train_test_split\n",
    "import matplotlib.pyplot as plt\n",
    "%matplotlib inline\n",
    "\n",
    "data = np.genfromtxt('data/spam.csv', delimiter=',')\n",
    "\n",
    "y = data[:, -1]\n",
    "x = data[:, 0:-1]\n",
    "\n",
    "train_x, test_x, train_y, test_y = train_test_split(x, y,random_state=42)\n",
    "\n",
    "accuracy = []\n",
    "for i in [2,4,6,8,10,12,14,16,18,20,22,24,26,28,30]:\n",
    "    ada = AdaBoostClassifier(n_estimators=i)\n",
    "    ada.fit(train_x,train_y)\n",
    "    accuracy.append(ada.score(test_x, test_y))\n",
    "    print \"{} Estimators : {} Accuracy\".format(i,ada.score(test_x, test_y))\n",
    "\n",
    "plt.plot([2,4,6,8,10,12,14,16,18,20,22,24,26,28,30], accuracy)\n",
    "plt.show()"
   ]
  },
  {
   "cell_type": "code",
   "execution_count": null,
   "metadata": {
    "collapsed": true
   },
   "outputs": [],
   "source": []
  }
 ],
 "metadata": {
  "kernelspec": {
   "display_name": "Python 2",
   "language": "python",
   "name": "python2"
  },
  "language_info": {
   "codemirror_mode": {
    "name": "ipython",
    "version": 2
   },
   "file_extension": ".py",
   "mimetype": "text/x-python",
   "name": "python",
   "nbconvert_exporter": "python",
   "pygments_lexer": "ipython2",
   "version": "2.7.9"
  }
 },
 "nbformat": 4,
 "nbformat_minor": 0
}
