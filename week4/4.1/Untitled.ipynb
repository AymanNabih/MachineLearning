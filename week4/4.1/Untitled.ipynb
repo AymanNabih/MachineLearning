{
 "cells": [
  {
   "cell_type": "code",
   "execution_count": 16,
   "metadata": {
    "collapsed": false
   },
   "outputs": [
    {
     "name": "stdout",
     "output_type": "stream",
     "text": [
      "0.240361309646\n",
      "0.240361309646\n",
      "nan\n",
      "0.297063077383\n",
      "0.321334368354\n"
     ]
    },
    {
     "name": "stderr",
     "output_type": "stream",
     "text": [
      "C:\\Anaconda\\lib\\site-packages\\IPython\\kernel\\__main__.py:5: RuntimeWarning: divide by zero encountered in log\n",
      "C:\\Anaconda\\lib\\site-packages\\IPython\\kernel\\__main__.py:5: RuntimeWarning: invalid value encountered in double_scalars\n"
     ]
    }
   ],
   "source": [
    "import numpy as np\n",
    "\n",
    "print -1*(.6*np.log(.6)+.4*np.log(.4))*5./14.\n",
    "print -1*(.6*np.log(.6)+.4*np.log(.4))*5./14.\n",
    "print -1*(1.*np.log(1.)+0*np.log(0))\n",
    "\n",
    "print -1*(3./6.*np.log(3./6.)+3./6.*np.log(3./6.))*6./14.\n",
    "print -1*(6./8.*np.log(6./8.)+2./8.*np.log(2./8.))*8./14."
   ]
  },
  {
   "cell_type": "code",
   "execution_count": null,
   "metadata": {
    "collapsed": true
   },
   "outputs": [],
   "source": []
  }
 ],
 "metadata": {
  "kernelspec": {
   "display_name": "Python 2",
   "language": "python",
   "name": "python2"
  },
  "language_info": {
   "codemirror_mode": {
    "name": "ipython",
    "version": 2
   },
   "file_extension": ".py",
   "mimetype": "text/x-python",
   "name": "python",
   "nbconvert_exporter": "python",
   "pygments_lexer": "ipython2",
   "version": "2.7.9"
  }
 },
 "nbformat": 4,
 "nbformat_minor": 0
}
