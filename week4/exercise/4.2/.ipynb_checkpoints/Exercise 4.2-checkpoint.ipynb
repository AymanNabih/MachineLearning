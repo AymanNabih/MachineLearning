{
 "cells": [
  {
   "cell_type": "code",
   "execution_count": 8,
   "metadata": {
    "collapsed": false
   },
   "outputs": [],
   "source": [
    "import pandas as pd\n",
    "import numpy as np\n",
    "from sklearn.cross_validation import train_test_split\n",
    "from sklearn.ensemble import RandomForestClassifier\n",
    "from sklearn.metrics import confusion_matrix, precision_score, recall_score\\\n",
    "    ,accuracy_score\n",
    "import matplotlib.pyplot as plt\n",
    "%matplotlib inline\n",
    "\n",
    "churn_df = pd.read_csv('data/churn.csv')\n",
    "d = {'yes': True, 'no': False}\n",
    "churn_df.replace('no',False,inplace=True)\n",
    "churn_df.replace('yes',True,inplace=True)\n",
    "churn_df.replace('False.',False,inplace=True)\n",
    "churn_df.replace('True.',True,inplace=True)\n",
    "churn_df = churn_df.drop('State',1)\n",
    "churn_df = churn_df.drop('Area Code',1)\n",
    "churn_df = churn_df.drop('Phone',1)"
   ]
  },
  {
   "cell_type": "code",
   "execution_count": 9,
   "metadata": {
    "collapsed": false
   },
   "outputs": [
    {
     "name": "stdout",
     "output_type": "stream",
     "text": [
      "0.941818181818\n",
      "[[932   8]\n",
      " [ 56 104]]\n",
      "0.928571428571\n",
      "0.65\n"
     ]
    }
   ],
   "source": [
    "y = churn_df.ix[:,-1].as_matrix()\n",
    "X = churn_df.ix[:,0:-1]\n",
    "X_train, X_test, y_train, y_test =\\\n",
    "    train_test_split(X, y, test_size=0.33, random_state=42)\n",
    "RFC = RandomForestClassifier()\n",
    "RFC.fit(X_train,y_train)\n",
    "print RFC.score(X_test, y_test)\n",
    "y_pred = RFC.predict(X_test)\n",
    "cm = confusion_matrix(y_test, y_pred)\n",
    "print cm\n",
    "print precision_score(y_test, y_pred)\n",
    "print recall_score(y_test, y_pred)"
   ]
  },
  {
   "cell_type": "code",
   "execution_count": 10,
   "metadata": {
    "collapsed": false
   },
   "outputs": [
    {
     "name": "stdout",
     "output_type": "stream",
     "text": [
      "0.940909090909\n",
      "[[932   8]\n",
      " [ 57 103]]\n",
      "0.940909090909\n",
      "0.927927927928\n",
      "0.64375\n"
     ]
    }
   ],
   "source": [
    "RFC1 = RandomForestClassifier(n_estimators=10,oob_score=True)\n",
    "RFC1.fit(X_train,y_train)\n",
    "print RFC1.score(X_test, y_test)\n",
    "y_pred1 = RFC1.predict(X_test)\n",
    "cm1 = confusion_matrix(y_test, y_pred1)\n",
    "print cm1\n",
    "print accuracy_score(y_test, y_pred1)\n",
    "print precision_score(y_test, y_pred1)\n",
    "print recall_score(y_test, y_pred1)"
   ]
  },
  {
   "cell_type": "code",
   "execution_count": 11,
   "metadata": {
    "collapsed": false
   },
   "outputs": [
    {
     "name": "stdout",
     "output_type": "stream",
     "text": [
      "[[0.0753726989092505 0.08180327796695966 0.10702231931598871\n",
      "  0.12069405173433605 0.15922529187136653]\n",
      " ['Night Calls' 'Night Charge' 'Night Mins' 'VMail Message' 'VMail Plan']]\n"
     ]
    }
   ],
   "source": [
    "Q = np.vstack((RFC.feature_importances_,X.columns))\n",
    "print np.sort(Q,axis=1)[:,-5:]"
   ]
  },
  {
   "cell_type": "code",
   "execution_count": 13,
   "metadata": {
    "collapsed": false
   },
   "outputs": [
    {
     "name": "stdout",
     "output_type": "stream",
     "text": [
      "2 Trees\n",
      "[[926  14]\n",
      " [ 84  76]]\n",
      "0.910909090909\n",
      "0.844444444444\n",
      "0.475\n",
      "\n",
      "4 Trees\n",
      "[[929  11]\n",
      " [ 94  66]]\n",
      "0.904545454545\n",
      "0.857142857143\n",
      "0.4125\n",
      "\n",
      "6 Trees\n",
      "[[931   9]\n",
      " [ 80  80]]\n",
      "0.919090909091\n",
      "0.898876404494\n",
      "0.5\n",
      "\n",
      "8 Trees\n",
      "[[931   9]\n",
      " [ 53 107]]\n",
      "0.943636363636\n",
      "0.922413793103\n",
      "0.66875\n",
      "\n",
      "10 Trees\n",
      "[[935   5]\n",
      " [ 69  91]]\n",
      "0.932727272727\n",
      "0.947916666667\n",
      "0.56875\n",
      "\n",
      "12 Trees\n",
      "[[933   7]\n",
      " [ 61  99]]\n",
      "0.938181818182\n",
      "0.933962264151\n",
      "0.61875\n",
      "\n",
      "14 Trees\n",
      "[[932   8]\n",
      " [ 53 107]]\n",
      "0.944545454545\n",
      "0.930434782609\n",
      "0.66875\n",
      "\n",
      "16 Trees\n",
      "[[932   8]\n",
      " [ 60 100]]\n",
      "0.938181818182\n",
      "0.925925925926\n",
      "0.625\n",
      "\n",
      "18 Trees\n",
      "[[936   4]\n",
      " [ 58 102]]\n",
      "0.943636363636\n",
      "0.962264150943\n",
      "0.6375\n",
      "\n",
      "20 Trees\n",
      "[[933   7]\n",
      " [ 45 115]]\n",
      "0.952727272727\n",
      "0.94262295082\n",
      "0.71875\n",
      "\n",
      "22 Trees\n",
      "[[934   6]\n",
      " [ 60 100]]\n",
      "0.94\n",
      "0.943396226415\n",
      "0.625\n",
      "\n",
      "24 Trees\n",
      "[[932   8]\n",
      " [ 49 111]]\n",
      "0.948181818182\n",
      "0.932773109244\n",
      "0.69375\n",
      "\n",
      "26 Trees\n",
      "[[933   7]\n",
      " [ 54 106]]\n",
      "0.944545454545\n",
      "0.938053097345\n",
      "0.6625\n",
      "\n",
      "28 Trees\n",
      "[[935   5]\n",
      " [ 54 106]]\n",
      "0.946363636364\n",
      "0.954954954955\n",
      "0.6625\n",
      "\n",
      "30 Trees\n",
      "[[931   9]\n",
      " [ 54 106]]\n",
      "0.942727272727\n",
      "0.921739130435\n",
      "0.6625\n",
      "\n"
     ]
    },
    {
     "data": {
      "image/png": "[encoded data removed]",
      "text/plain": [
       "<matplotlib.figure.Figure at 0x18261a20>"
      ]
     },
     "metadata": {},
     "output_type": "display_data"
    }
   ],
   "source": [
    "estimators = [2,4,6,8,10,12,14,16,18,20,22,24,26,28,30]\n",
    "accuracy = []\n",
    "for i in estimators:\n",
    "    RFC2 = RandomForestClassifier(n_estimators=i,oob_score=True)\n",
    "    RFC2.fit(X_train,y_train)\n",
    "    print '{} Trees'.format(i)\n",
    "    accuracy.append(RFC2.score(X_test, y_test))\n",
    "    y_pred2 = RFC2.predict(X_test)\n",
    "    cm2 = confusion_matrix(y_test, y_pred2)\n",
    "    print cm2\n",
    "    print accuracy_score(y_test, y_pred2)\n",
    "    print precision_score(y_test, y_pred2)\n",
    "    print recall_score(y_test, y_pred2)\n",
    "    print\n",
    "\n",
    "plt.plot(estimators,accuracy)\n",
    "plt.show()"
   ]
  },
  {
   "cell_type": "code",
   "execution_count": 32,
   "metadata": {
    "collapsed": false
   },
   "outputs": [
    {
     "name": "stdout",
     "output_type": "stream",
     "text": [
      "1 Features\n",
      "[[936   4]\n",
      " [123  37]]\n",
      "0.884545454545\n",
      "0.90243902439\n",
      "0.23125\n",
      "\n",
      "2 Features\n",
      "[[935   5]\n",
      " [ 76  84]]\n",
      "0.926363636364\n",
      "0.943820224719\n",
      "0.525\n",
      "\n",
      "3 Features\n",
      "[[934   6]\n",
      " [ 66  94]]\n",
      "0.934545454545\n",
      "0.94\n",
      "0.5875\n",
      "\n",
      "4 Features\n",
      "[[932   8]\n",
      " [ 58 102]]\n",
      "0.94\n",
      "0.927272727273\n",
      "0.6375\n",
      "\n",
      "5 Features\n",
      "[[933   7]\n",
      " [ 49 111]]\n",
      "0.949090909091\n",
      "0.940677966102\n",
      "0.69375\n",
      "\n",
      "6 Features\n",
      "[[929  11]\n",
      " [ 56 104]]\n",
      "0.939090909091\n",
      "0.904347826087\n",
      "0.65\n",
      "\n",
      "7 Features\n",
      "[[933   7]\n",
      " [ 45 115]]\n",
      "0.952727272727\n",
      "0.94262295082\n",
      "0.71875\n",
      "\n",
      "8 Features\n",
      "[[931   9]\n",
      " [ 50 110]]\n",
      "0.946363636364\n",
      "0.924369747899\n",
      "0.6875\n",
      "\n",
      "9 Features\n",
      "[[930  10]\n",
      " [ 51 109]]\n",
      "0.944545454545\n",
      "0.915966386555\n",
      "0.68125\n",
      "\n",
      "10 Features\n",
      "[[930  10]\n",
      " [ 53 107]]\n",
      "0.942727272727\n",
      "0.91452991453\n",
      "0.66875\n",
      "\n",
      "11 Features\n",
      "[[932   8]\n",
      " [ 47 113]]\n",
      "0.95\n",
      "0.933884297521\n",
      "0.70625\n",
      "\n",
      "12 Features\n",
      "[[933   7]\n",
      " [ 45 115]]\n",
      "0.952727272727\n",
      "0.94262295082\n",
      "0.71875\n",
      "\n",
      "13 Features\n",
      "[[928  12]\n",
      " [ 46 114]]\n",
      "0.947272727273\n",
      "0.904761904762\n",
      "0.7125\n",
      "\n",
      "14 Features\n",
      "[[927  13]\n",
      " [ 48 112]]\n",
      "0.944545454545\n",
      "0.896\n",
      "0.7\n",
      "\n",
      "15 Features\n",
      "[[929  11]\n",
      " [ 51 109]]\n",
      "0.943636363636\n",
      "0.908333333333\n",
      "0.68125\n",
      "\n",
      "16 Features\n",
      "[[930  10]\n",
      " [ 50 110]]\n",
      "0.945454545455\n",
      "0.916666666667\n",
      "0.6875\n",
      "\n",
      "17 Features\n",
      "[[928  12]\n",
      " [ 49 111]]\n",
      "0.944545454545\n",
      "0.90243902439\n",
      "0.69375\n",
      "\n"
     ]
    },
    {
     "data": {
      "image/png": "[encoded data removed]",
      "text/plain": [
       "<matplotlib.figure.Figure at 0x19d0c518>"
      ]
     },
     "metadata": {},
     "output_type": "display_data"
    }
   ],
   "source": [
    "accuracy = []\n",
    "for i in xrange(X_train.shape[1]):\n",
    "    RFC3 = RandomForestClassifier(max_features=i+1,oob_score=True)\n",
    "    RFC3.fit(X_train,y_train)\n",
    "    print '{} Features'.format(i+1)\n",
    "    accuracy.append(RFC3.score(X_test, y_test))\n",
    "    y_pred3 = RFC3.predict(X_test)\n",
    "    cm3 = confusion_matrix(y_test, y_pred3)\n",
    "    print cm3\n",
    "    print accuracy_score(y_test, y_pred3)\n",
    "    print precision_score(y_test, y_pred3)\n",
    "    print recall_score(y_test, y_pred3)\n",
    "    print\n",
    "\n",
    "plt.plot(xrange(X_train.shape[1]),accuracy)\n",
    "plt.show()"
   ]
  },
  {
   "cell_type": "code",
   "execution_count": 16,
   "metadata": {
    "collapsed": false
   },
   "outputs": [
    {
     "name": "stdout",
     "output_type": "stream",
     "text": [
      "17\n",
      "(2233L,)\n"
     ]
    }
   ],
   "source": [
    "print X_train.shape[1]\n",
    "print y_train.shape"
   ]
  }
 ],
 "metadata": {
  "kernelspec": {
   "display_name": "Python 2",
   "language": "python",
   "name": "python2"
  },
  "language_info": {
   "codemirror_mode": {
    "name": "ipython",
    "version": 2
   },
   "file_extension": ".py",
   "mimetype": "text/x-python",
   "name": "python",
   "nbconvert_exporter": "python",
   "pygments_lexer": "ipython2",
   "version": "2.7.9"
  }
 },
 "nbformat": 4,
 "nbformat_minor": 0
}
