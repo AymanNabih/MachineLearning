{
 "cells": [
  {
   "cell_type": "code",
   "execution_count": 78,
   "metadata": {
    "collapsed": false
   },
   "outputs": [],
   "source": [
    "import pandas as pd\n",
    "import numpy as np\n",
    "from sklearn.cross_validation import train_test_split\n",
    "from sklearn.ensemble import RandomForestClassifier\n",
    "from sklearn.metrics import confusion_matrix, precision_score, recall_score\\\n",
    "    ,accuracy_score\n",
    "\n",
    "churn_df = pd.read_csv('data/churn.csv')\n",
    "d = {'yes': True, 'no': False}\n",
    "churn_df.replace('no',False,inplace=True)\n",
    "churn_df.replace('yes',True,inplace=True)\n",
    "churn_df.replace('False.',False,inplace=True)\n",
    "churn_df.replace('True.',True,inplace=True)\n",
    "churn_df = churn_df.drop('State',1)\n",
    "churn_df = churn_df.drop('Area Code',1)\n",
    "churn_df = churn_df.drop('Phone',1)"
   ]
  },
  {
   "cell_type": "code",
   "execution_count": 100,
   "metadata": {
    "collapsed": false
   },
   "outputs": [
    {
     "name": "stdout",
     "output_type": "stream",
     "text": [
      "0.938181818182\n",
      "[[933   7]\n",
      " [ 61  99]]\n",
      "0.933962264151\n",
      "0.61875\n"
     ]
    }
   ],
   "source": [
    "y = churn_df.ix[:,-1].as_matrix()\n",
    "X = churn_df.ix[:,0:-1]\n",
    "X_train, X_test, y_train, y_test =\\\n",
    "    train_test_split(X, y, test_size=0.33, random_state=42)\n",
    "RFC = RandomForestClassifier()\n",
    "RFC.fit(X_train,y_train)\n",
    "print RFC.score(X_test, y_test)\n",
    "y_pred = RFC.predict(X_test)\n",
    "cm = confusion_matrix(y_test, y_pred)\n",
    "print cm\n",
    "print precision_score(y_test, y_pred)\n",
    "print recall_score(y_test, y_pred)"
   ]
  },
  {
   "cell_type": "code",
   "execution_count": 101,
   "metadata": {
    "collapsed": false
   },
   "outputs": [
    {
     "name": "stdout",
     "output_type": "stream",
     "text": [
      "0.938181818182\n",
      "[[934   6]\n",
      " [ 62  98]]\n",
      "0.938181818182\n",
      "0.942307692308\n",
      "0.6125\n"
     ]
    }
   ],
   "source": [
    "RFC1 = RandomForestClassifier(n_estimators=10,oob_score=True)\n",
    "RFC1.fit(X_train,y_train)\n",
    "print RFC1.score(X_test, y_test)\n",
    "y_pred1 = RFC1.predict(X_test)\n",
    "cm1 = confusion_matrix(y_test, y_pred1)\n",
    "print cm1\n",
    "print accuracy_score(y_test, y_pred1)\n",
    "print precision_score(y_test, y_pred1)\n",
    "print recall_score(y_test, y_pred1)"
   ]
  },
  {
   "cell_type": "code",
   "execution_count": 102,
   "metadata": {
    "collapsed": false
   },
   "outputs": [
    {
     "name": "stdout",
     "output_type": "stream",
     "text": [
      "[[0.06486159977488153 0.09122923785505849 0.11399269531049867\n",
      "  0.11461558922956425 0.1602218660444108]\n",
      " ['Night Calls' 'Night Charge' 'Night Mins' 'VMail Message' 'VMail Plan']]\n"
     ]
    }
   ],
   "source": [
    "Q = np.vstack((RFC.feature_importances_,X.columns))\n",
    "print np.sort(Q,axis=1)[:,-5:]"
   ]
  },
  {
   "cell_type": "code",
   "execution_count": 103,
   "metadata": {
    "collapsed": false
   },
   "outputs": [
    {
     "name": "stdout",
     "output_type": "stream",
     "text": [
      "10 Trees\n",
      "0.942727272727\n",
      "[[934   6]\n",
      " [ 57 103]]\n",
      "0.942727272727\n",
      "0.94495412844\n",
      "0.64375\n",
      "\n",
      "12 Trees\n",
      "0.932727272727\n",
      "[[931   9]\n",
      " [ 65  95]]\n",
      "0.932727272727\n",
      "0.913461538462\n",
      "0.59375\n",
      "\n",
      "14 Trees\n",
      "0.942727272727\n",
      "[[931   9]\n",
      " [ 54 106]]\n",
      "0.942727272727\n",
      "0.921739130435\n",
      "0.6625\n",
      "\n",
      "16 Trees\n",
      "0.942727272727\n",
      "[[931   9]\n",
      " [ 54 106]]\n",
      "0.942727272727\n",
      "0.921739130435\n",
      "0.6625\n",
      "\n",
      "18 Trees\n",
      "0.948181818182\n",
      "[[933   7]\n",
      " [ 50 110]]\n",
      "0.948181818182\n",
      "0.940170940171\n",
      "0.6875\n",
      "\n",
      "20 Trees\n",
      "0.945454545455\n",
      "[[932   8]\n",
      " [ 52 108]]\n",
      "0.945454545455\n",
      "0.931034482759\n",
      "0.675\n",
      "\n"
     ]
    }
   ],
   "source": [
    "for i in [10,12,14,16,18,20]:\n",
    "    RFC2 = RandomForestClassifier(n_estimators=i,oob_score=True)\n",
    "    RFC2.fit(X_train,y_train)\n",
    "    print '{} Trees'.format(i)\n",
    "    print RFC2.score(X_test, y_test)\n",
    "    y_pred2 = RFC2.predict(X_test)\n",
    "    cm2 = confusion_matrix(y_test, y_pred2)\n",
    "    print cm2\n",
    "    print accuracy_score(y_test, y_pred2)\n",
    "    print precision_score(y_test, y_pred2)\n",
    "    print recall_score(y_test, y_pred2)\n",
    "    print"
   ]
  },
  {
   "cell_type": "code",
   "execution_count": null,
   "metadata": {
    "collapsed": true
   },
   "outputs": [],
   "source": []
  }
 ],
 "metadata": {
  "kernelspec": {
   "display_name": "Python 2",
   "language": "python",
   "name": "python2"
  },
  "language_info": {
   "codemirror_mode": {
    "name": "ipython",
    "version": 2
   },
   "file_extension": ".py",
   "mimetype": "text/x-python",
   "name": "python",
   "nbconvert_exporter": "python",
   "pygments_lexer": "ipython2",
   "version": "2.7.9"
  }
 },
 "nbformat": 4,
 "nbformat_minor": 0
}
