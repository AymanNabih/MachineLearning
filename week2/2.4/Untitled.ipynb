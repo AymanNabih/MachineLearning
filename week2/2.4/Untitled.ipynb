{
 "cells": [
  {
   "cell_type": "code",
   "execution_count": 43,
   "metadata": {
    "collapsed": false
   },
   "outputs": [
    {
     "name": "stdout",
     "output_type": "stream",
     "text": [
      "[1.0, 0.75, 0.5, 0.25, 0.0, 0.0, 0.0, 0.0, 0.0] [1.0, 1.0, 1.0, 1.0, 1.0, 1.0, 0.66666666666666663, 0.33333333333333331, 0.0] [ 0.1  0.2  0.3  0.4  0.5  0.6  0.7  0.8  0.9]\n"
     ]
    },
    {
     "data": {
      "image/png": "[encoded data removed]",
      "text/plain": [
       "<matplotlib.figure.Figure at 0xa27c860>"
      ]
     },
     "metadata": {},
     "output_type": "display_data"
    }
   ],
   "source": [
    "from __future__ import division\n",
    "import numpy as np\n",
    "import matplotlib.pyplot as plt\n",
    "%matplotlib inline\n",
    "\n",
    "def roc_curve(probabilities, labels): \n",
    "    '''\n",
    "    INPUT: numpy array, numpy array\n",
    "    OUTPUT: list, list, list\n",
    "    Take a numpy array of the predicted probabilities and a numpy array of the\n",
    "    true labels.\n",
    "    Return the True Positive Rates, False Positive Rates and Thresholds for the\n",
    "    ROC curve.\n",
    "    '''\n",
    "#     probset = set(probabilities)\n",
    "#     print labels\n",
    "    data = np.vstack((np.sort(probabilities),np.sort(labels)))\n",
    "#     print data\n",
    "    tpr = []\n",
    "    fpr = []\n",
    "    thresholds = np.sort(probabilities)\n",
    "#     print thresholds\n",
    "    for z in thresholds:\n",
    "#         print z\n",
    "#         pos = len(np.where(probabilities > z)[0])\n",
    "        tp = np.sum(np.logical_and(data[1,:] == 1,\n",
    "                                             data[0,:] > z))\n",
    "        fn = np.sum(np.logical_and(data[1,:] == 1,\n",
    "                                             data[0,:] < z))\n",
    "        fp = np.sum(np.logical_and(data[1,:] == 0,\n",
    "                                             data[0,:] > z))\n",
    "        tn = np.sum(np.logical_and(data[1,:] == 0,\n",
    "                                             data[0,:] < z))\n",
    "#         print tp, fn, fp, tn\n",
    "        tpr.append(tp/(tp+fn))\n",
    "        fpr.append(fp/(fp+tn))\n",
    "    return tpr,fpr, thresholds\n",
    "        \n",
    "prob = [.1,.2,.3,.4,.5,.6,.7,.8,.9]\n",
    "lab = [0,0,0,0,1,0,1,1,1]\n",
    "tpr,fpr,thresh =  roc_curve(prob, lab)\n",
    "print fpr, tpr, thresh\n",
    "plt.plot(fpr, tpr, 'ro')\n",
    "plt.xlabel(\"False Positive Rate (1 - Specificity)\")\n",
    "plt.ylabel(\"True Positive Rate (Sensitivity, Recall)\")\n",
    "plt.title(\"ROC plot of fake data\")\n",
    "plt.show()"
   ]
  },
  {
   "cell_type": "code",
   "execution_count": 40,
   "metadata": {
    "collapsed": true
   },
   "outputs": [],
   "source": [
    "import pandas as pd\n",
    "from sklearn.datasets import make_classification\n",
    "from sklearn.linear_model import LogisticRegression\n",
    "import matplotlib.pyplot as plt\n",
    "from sklearn.cross_validation import train_test_split\n",
    "\n",
    "# X, y = make_classification(n_features=2, n_redundant=0, n_informative=2,\n",
    "#                            n_clusters_per_class=2, n_samples=1000)\n",
    "\n",
    "df = pd.read_csv('data/loanf.csv')\n",
    "y = (df['Interest.Rate'] <= 12).values\n",
    "X = df[['FICO.Score', 'Loan.Length', 'Loan.Amount']].values\n",
    "X_train, X_test, y_train, y_test = train_test_split(X, y)"
   ]
  },
  {
   "cell_type": "code",
   "execution_count": null,
   "metadata": {
    "collapsed": true
   },
   "outputs": [],
   "source": []
  }
 ],
 "metadata": {
  "kernelspec": {
   "display_name": "Python 2",
   "language": "python",
   "name": "python2"
  },
  "language_info": {
   "codemirror_mode": {
    "name": "ipython",
    "version": 2
   },
   "file_extension": ".py",
   "mimetype": "text/x-python",
   "name": "python",
   "nbconvert_exporter": "python",
   "pygments_lexer": "ipython2",
   "version": "2.7.9"
  }
 },
 "nbformat": 4,
 "nbformat_minor": 0
}
